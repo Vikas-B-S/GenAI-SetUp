{
 "cells": [
  {
   "cell_type": "code",
   "execution_count": 1,
   "id": "6393d474",
   "metadata": {},
   "outputs": [],
   "source": [
    "# pip install google-generativeai"
   ]
  },
  {
   "cell_type": "markdown",
   "id": "d351bee7",
   "metadata": {},
   "source": [
    "# Requirements"
   ]
  },
  {
   "cell_type": "code",
   "execution_count": 2,
   "id": "f2725846",
   "metadata": {},
   "outputs": [
    {
     "name": "stderr",
     "output_type": "stream",
     "text": [
      "c:\\Users\\VIKAS B S\\OneDrive\\Desktop\\GenAI_Case_Studies\\.venv\\Lib\\site-packages\\tqdm\\auto.py:21: TqdmWarning: IProgress not found. Please update jupyter and ipywidgets. See https://ipywidgets.readthedocs.io/en/stable/user_install.html\n",
      "  from .autonotebook import tqdm as notebook_tqdm\n"
     ]
    }
   ],
   "source": [
    "import google.generativeai as genai"
   ]
  },
  {
   "cell_type": "code",
   "execution_count": 5,
   "id": "ba9612c2",
   "metadata": {},
   "outputs": [],
   "source": [
    "import os \n",
    "api=os.getenv('GOOGLE_API_KEY')"
   ]
  },
  {
   "cell_type": "code",
   "execution_count": 4,
   "id": "51c9b7ba",
   "metadata": {},
   "outputs": [
    {
     "name": "stdout",
     "output_type": "stream",
     "text": [
      "models/gemini-1.5-pro-latest\n",
      "models/gemini-1.5-pro-002\n",
      "models/gemini-1.5-pro\n",
      "models/gemini-1.5-flash-latest\n",
      "models/gemini-1.5-flash\n",
      "models/gemini-1.5-flash-002\n",
      "models/gemini-1.5-flash-8b\n",
      "models/gemini-1.5-flash-8b-001\n",
      "models/gemini-1.5-flash-8b-latest\n",
      "models/gemini-2.5-pro-preview-03-25\n",
      "models/gemini-2.5-flash-preview-05-20\n",
      "models/gemini-2.5-flash\n",
      "models/gemini-2.5-flash-lite-preview-06-17\n",
      "models/gemini-2.5-pro-preview-05-06\n",
      "models/gemini-2.5-pro-preview-06-05\n",
      "models/gemini-2.5-pro\n",
      "models/gemini-2.0-flash-exp\n",
      "models/gemini-2.0-flash\n",
      "models/gemini-2.0-flash-001\n",
      "models/gemini-2.0-flash-exp-image-generation\n",
      "models/gemini-2.0-flash-lite-001\n",
      "models/gemini-2.0-flash-lite\n",
      "models/gemini-2.0-flash-preview-image-generation\n",
      "models/gemini-2.0-flash-lite-preview-02-05\n",
      "models/gemini-2.0-flash-lite-preview\n",
      "models/gemini-2.0-pro-exp\n",
      "models/gemini-2.0-pro-exp-02-05\n",
      "models/gemini-exp-1206\n",
      "models/gemini-2.0-flash-thinking-exp-01-21\n",
      "models/gemini-2.0-flash-thinking-exp\n",
      "models/gemini-2.0-flash-thinking-exp-1219\n",
      "models/gemini-2.5-flash-preview-tts\n",
      "models/gemini-2.5-pro-preview-tts\n",
      "models/gemini-2.5-flash-lite\n",
      "models/gemini-2.5-flash-image-preview\n"
     ]
    }
   ],
   "source": [
    "for m in genai.list_models():\n",
    "    if 'generateContent' in m.supported_generation_methods and \"gemini\" in m.name:\n",
    "        print(m.name)"
   ]
  },
  {
   "cell_type": "markdown",
   "id": "201f0531",
   "metadata": {},
   "source": [
    "# Generate a content from Gemini Model"
   ]
  },
  {
   "cell_type": "markdown",
   "id": "0d4d4a2a",
   "metadata": {},
   "source": []
  },
  {
   "cell_type": "code",
   "execution_count": 7,
   "id": "33a2f71a",
   "metadata": {},
   "outputs": [],
   "source": [
    "genai.configure(api_key=api)"
   ]
  },
  {
   "cell_type": "code",
   "execution_count": 8,
   "id": "3289e849",
   "metadata": {},
   "outputs": [],
   "source": [
    "model=genai.GenerativeModel('gemini-2.5-flash-lite')"
   ]
  },
  {
   "cell_type": "code",
   "execution_count": 12,
   "id": "2b9f5fb9",
   "metadata": {},
   "outputs": [],
   "source": [
    "prompt='''Asume you are a sports expert.Prepare a summary on India vs Pakistan match that\n",
    " took place yesterday(Champions Trophy 2025).Tell me who is the man of the match according to you. \n",
    " Give me in bulletin points'''"
   ]
  },
  {
   "cell_type": "code",
   "execution_count": 13,
   "id": "9fa153cb",
   "metadata": {},
   "outputs": [],
   "source": [
    "response=model.generate_content(prompt)"
   ]
  },
  {
   "cell_type": "code",
   "execution_count": 14,
   "id": "a746337f",
   "metadata": {},
   "outputs": [
    {
     "name": "stdout",
     "output_type": "stream",
     "text": [
      "**India vs. Pakistan, Champions Trophy 2025: A Riveting Encounter**\n",
      "\n",
      "Here's a breakdown of yesterday's thrilling India vs. Pakistan clash in the Champions Trophy 2025, as seen through the eyes of a sports expert:\n",
      "\n",
      "*   **Match Result:** India emerged victorious in a nail-biting contest, clinching the win in the final overs.\n",
      "\n",
      "*   **Dramatic Chase:** Pakistan put up a valiant fight, pushing India to their absolute limit in a high-pressure chase. Their batting order showed remarkable resilience and strokeplay.\n",
      "\n",
      "*   **Indian Bowling Brilliance:** India's bowling attack, particularly their death bowlers, held their nerve under immense pressure. They executed their plans effectively, picking up crucial wickets at vital junctures.\n",
      "\n",
      "*   **Key Batting Performances:**\n",
      "    *   **Pakistan:** [Player Name/Brief Description of their innings] showcased exceptional skill and determination, anchoring their innings and keeping them in the hunt.\n",
      "    *   **India:** [Player Name/Brief Description of their innings] played a crucial role in stabilizing the innings and then accelerating the scoring rate when it mattered most.\n",
      "\n",
      "*   **Fielding Deciders:** Sharp fielding and crucial catches from both sides played a significant part in shaping the game's momentum.\n",
      "\n",
      "*   **Tense Finish:** The match went down to the wire, with the outcome uncertain until the very last few balls, epitomizing the intense rivalry between these two nations.\n",
      "\n",
      "*   **My Man of the Match:** While several players had strong claims, my Man of the Match would be **[Your Chosen Player's Name]**.\n",
      "\n",
      "    *   **Reasoning:** [Provide a concise reason for your choice. For example: \"His [mention their specific contribution - e.g., match-winning spell of bowling, composed century under pressure, game-changing spell of death bowling] was the decisive factor that swung the game in India's favor. He displayed incredible composure and skill when the stakes were highest.\"]\n"
     ]
    }
   ],
   "source": [
    "print(response.text)"
   ]
  },
  {
   "cell_type": "code",
   "execution_count": null,
   "id": "7c5728ca",
   "metadata": {},
   "outputs": [],
   "source": []
  }
 ],
 "metadata": {
  "kernelspec": {
   "display_name": ".venv",
   "language": "python",
   "name": "python3"
  },
  "language_info": {
   "codemirror_mode": {
    "name": "ipython",
    "version": 3
   },
   "file_extension": ".py",
   "mimetype": "text/x-python",
   "name": "python",
   "nbconvert_exporter": "python",
   "pygments_lexer": "ipython3",
   "version": "3.13.7"
  }
 },
 "nbformat": 4,
 "nbformat_minor": 5
}
